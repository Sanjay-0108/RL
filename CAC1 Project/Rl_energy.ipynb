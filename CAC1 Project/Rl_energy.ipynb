{
 "cells": [
  {
   "cell_type": "markdown",
   "metadata": {},
   "source": [
    "\n",
    "<h1 align=\"center\" style=\"color:brown;font-size:200%\"><b>Reinforcement Learning in action</b></h1>"
   ]
  },
  {
   "cell_type": "markdown",
   "metadata": {},
   "source": [
    "## **1. Introduction:**"
   ]
  },
  {
   "cell_type": "markdown",
   "metadata": {},
   "source": [
    "Let's assume we need to manage the energy flow of a building powered by solar panel system with a battery storage as shown in Figure 1. When solar PV generation is not sufficient to cater to the demand, the main grid supplies the mismatch at a varying (with time) price. Further the cost of $CO_2$ produced at a specific time by the grid is also considered for the cost.\n",
    "\n",
    "![Data Heatmap](building.png)\n",
    "\n",
    "\n",
    "<p style=\"text-align: center; font-weight:bold;\">Figure 1: Set up of building energy management system</p>\n",
    "\n",
    "Our task in this tutorail is to charge or discharge the battery accordingly so that the overall cost is minimized.\n",
    "\n",
    "This tutorial is based on the simulation engine [Pymgrid](https://github.com/Total-RD/pymgrid) by Total-RD"
   ]
  },
  {
   "cell_type": "markdown",
   "metadata": {},
   "source": [
    "## **2. Install and imports:**"
   ]
  },
  {
   "cell_type": "code",
   "execution_count": 3,
   "metadata": {},
   "outputs": [],
   "source": [
    "import sys\n",
    "from pymgrid import MicrogridGenerator as mg\n",
    "import matplotlib.pyplot as plt\n",
    "import numpy as np\n",
    "import os\n",
    "import time\n",
    "\n",
    "from helper_functions import *"
   ]
  },
  {
   "cell_type": "markdown",
   "metadata": {},
   "source": [
    "## **3. Generate Microgrids (a.k.a Building+PV+Battery+grid System):**\n",
    "\n",
    "In this specific case, the microgrid is defined as the building (energy demand) Solar panel (PV), inhouse battery pack which is also connected to the grid"
   ]
  },
  {
   "cell_type": "code",
   "execution_count": 4,
   "metadata": {
    "scrolled": true
   },
   "outputs": [],
   "source": [
    "# First we create the environment and the microgrid\n",
    "env = mg.MicrogridGenerator(nb_microgrid=1, path=\"./data/pymgrid_data\")  # we can use a custom file to simulate the load and the PV\n",
    "env.generate_microgrid(verbose=False)\n",
    "mg0 = env.microgrids[0]"
   ]
  },
  {
   "cell_type": "code",
   "execution_count": 5,
   "metadata": {
    "scrolled": true
   },
   "outputs": [
    {
     "data": {
      "text/plain": [
       "{'PV': 1, 'battery': 1, 'genset': 0, 'grid': 1}"
      ]
     },
     "execution_count": 5,
     "metadata": {},
     "output_type": "execute_result"
    }
   ],
   "source": [
    "mg0.architecture  # architecture of the microgrid \n",
    "# mg0.parameters  # parameters of the microgrid "
   ]
  },
  {
   "cell_type": "markdown",
   "metadata": {},
   "source": [
    "NOTE: In this tutorial, we do not consider a generator (genset). Possible ways to integrate generation will be taken into the discussion at the end of the tutorial"
   ]
  },
  {
   "cell_type": "markdown",
   "metadata": {},
   "source": [
    "## **4. Defining the Reward:**"
   ]
  },
  {
   "cell_type": "markdown",
   "metadata": {},
   "source": [
    "RL always works with reward. Therefore, we need to define the reward at the begining. Then we can write algorithms so that our agent can learn to maximize the reward.\n",
    "\n",
    "In this, we are trying to reduce (Minimize) the overall cost of the building. Therefore we can easily define the reward as the **minus cost**. So agent maximizing the reward means minimizing the cost.\n",
    "\n",
    "The total cost consists of the cost of eleectricity and the penalty for $CO_2$ produced by the grid."
   ]
  },
  {
   "cell_type": "markdown",
   "metadata": {},
   "source": [
    "## **5. Q table:**"
   ]
  },
  {
   "cell_type": "markdown",
   "metadata": {},
   "source": [
    "The state of the system explains the present conditions of the system. \n",
    " \n",
    "As we already learned, in Q learning, we try to guess the expected discounted future reward for each **State** for each **action**. \n",
    "\n",
    "Therefore, we maintain a Q-table to store these values. By doing this, we maintain rows for each State and columns for each Action (see Figure 2). So each value inside the Q-table is the Q-value (expected discounted future reward) for a given state and for a given action\n",
    "\n",
    "![Data Heatmap](qtable.png)\n",
    "\n",
    "<p style=\"text-align: center; font-weight:bold;\">Figure 2: Q table consisting of actions and states</p>"
   ]
  },
  {
   "cell_type": "markdown",
   "metadata": {},
   "source": [
    "## **6. Defining the State:**"
   ]
  },
  {
   "cell_type": "markdown",
   "metadata": {},
   "source": [
    "Before starting the learning process, we need to define the states and the actions. \n",
    "\n",
    "Let us define the states first. To help the process, we will first plot a few graphs for the next 24 time steps (hours).\n",
    "\n",
    "(extra note: forecast function forecast next 24 steps by default you can change it to N steps by **mg0.set_horizon(N)** )"
   ]
  },
  {
   "cell_type": "code",
   "execution_count": 6,
   "metadata": {},
   "outputs": [
    {
     "data": {
      "text/plain": [
       "<matplotlib.legend.Legend at 0x7f7ea2136d30>"
      ]
     },
     "execution_count": 6,
     "metadata": {},
     "output_type": "execute_result"
    },
    {
     "data": {
      "image/png": "[encoded data removed]",
      "text/plain": [
       "<Figure size 432x288 with 1 Axes>"
      ]
     },
     "metadata": {
      "needs_background": "light"
     },
     "output_type": "display_data"
    }
   ],
   "source": [
    "plt.plot(mg0.forecast_pv(), label=\"PV\")\n",
    "plt.plot(mg0.forecast_load(), label=\"load\")\n",
    "plt.legend()\n",
    "# as we can see PV and Load is varying with the  time"
   ]
  },
  {
   "cell_type": "code",
   "execution_count": 7,
   "metadata": {},
   "outputs": [
    {
     "data": {
      "text/plain": [
       "[<matplotlib.lines.Line2D at 0x7f7ea0027280>]"
      ]
     },
     "execution_count": 7,
     "metadata": {},
     "output_type": "execute_result"
    },
    {
     "data": {
      "image/png": "[encoded data removed]",
      "text/plain": [
       "<Figure size 432x288 with 1 Axes>"
      ]
     },
     "metadata": {
      "needs_background": "light"
     },
     "output_type": "display_data"
    }
   ],
   "source": [
    "plt.plot(mg0.forecast_grid_status())  \n",
    "# Here we observe that the microgrid is always connected to the utility grid (no change)"
   ]
  },
  {
   "cell_type": "markdown",
   "metadata": {},
   "source": [
    "As we know, the environment in this is defined by four factors (Figure 3), namely,\n",
    "* Load (kW)\n",
    "* PV (kW)\n",
    "* Battery (charge percentage)\n",
    "* Grid connectivity (Grid price is not provided by the simulation environment)\n",
    "\n",
    "![Data Heatmap](environment.png)\n",
    "\n",
    "\n",
    "<p style=\"text-align: center; font-weight:bold;\">Figure 3: Energy interactions to state definition</p>\n",
    "\n",
    "So, we can simply describe state by **(load, PV, Battery Percentage, Grid connectivity)** where Battery Percentage is (battery charge level \\state of charge of battery)\n",
    "\n",
    "1. Do we need all these variables to define the state? \n",
    "\n",
    "2. What variables/factors can you eliminate? \n",
    "\n",
    "3. Given our problem statement, what variables can you combine?"
   ]
  },
  {
   "cell_type": "markdown",
   "metadata": {},
   "source": [
    "Another problem we face here is how to create Q-table when the variables in the state definition are continuous. \n",
    "\n",
    "For this, we **discretize the variable**. For example in this tutorial, we round the kW to the nearest decimal and battery percentage to the nearest 0.1"
   ]
  },
  {
   "cell_type": "code",
   "execution_count": 1,
   "metadata": {},
   "outputs": [],
   "source": [
    "mg0.set_horizon(24*365)\n",
    "\n",
    "overall_first_state_variable = mg0.forecast_load()-mg0.forecast_pv()  # ???\n",
    "\n",
    "overal_min = min(overall_first_state_variable)\n",
    "overal_max = max(overall_first_state_variable)\n",
    "discretize_interval = 1\n",
    "net_load_params = (overal_min, overal_max, discretize_interval)\n",
    "mg0.set_horizon(24)\n",
    "f\"max: {overal_max:.2f}, min : {overal_min:.2f} interval: {discretize_interval}\""
   ]
  },
  {
   "cell_type": "code",
   "execution_count": 10,
   "metadata": {},
   "outputs": [],
   "source": [
    "# For a given instences, you can see the environment and other values like this\n",
    "current_load = mg0.load\n",
    "current_pv = mg0.pv\n",
    "battery_capacity = mg0.battery.capacity\n",
    "battery_state_of_charge = mg0.battery.soc\n",
    "# current_cost = mg0.battery.get_cost() ## can be used only after running atleast one step of the microgrid (eg. mg.run(action) )"
   ]
  },
  {
   "cell_type": "markdown",
   "metadata": {},
   "source": [
    "## **7. Designing the Actions:**"
   ]
  },
  {
   "cell_type": "markdown",
   "metadata": {},
   "source": [
    "Since we have defined the states, let's try to define the actions that our agent need to perform to maximize the reward. \n",
    "\n",
    "These are the four actions that we are suggesting\n",
    "* action 0: battery_charge\n",
    "* action 1: battery_discharge\n",
    "* action 2: grid_import\n",
    "* action 3: grid_export\n",
    "\n"
   ]
  },
  {
   "cell_type": "markdown",
   "metadata": {},
   "source": [
    "However, our simulation engine does not know what these actions are.\n",
    "\n",
    "For this, we have to map these actions to the simulation engines control signals"
   ]
  },
  {
   "cell_type": "code",
   "execution_count": 11,
   "metadata": {},
   "outputs": [],
   "source": [
    "def actions_agent(mg0, action):\n",
    "    pv = mg0.pv\n",
    "    load = mg0.load\n",
    "    net_load = load - pv\n",
    "    capa_to_charge = mg0.battery.capa_to_charge  # remaining capacity to charge of the battery\n",
    "    p_charge_max = mg0.battery.p_charge_max  # charge speed of the battery\n",
    "    p_charge = max(0,min(-net_load, capa_to_charge, p_charge_max))  # charge value for the time \n",
    "    \n",
    "    capa_to_discharge = mg0.battery.capa_to_discharge  # capacity of discharge\n",
    "    p_discharge_max = mg0.battery.p_discharge_max  # per hour discharge rate\n",
    "    p_discharge = max(0,min(net_load, capa_to_discharge, p_discharge_max))  # discharge value for the time \n",
    "          \n",
    "    if action == 0:       \n",
    "        control_dict = {'pv_consummed': min(pv,load),\n",
    "                        'battery_charge': p_charge,\n",
    "                        'battery_discharge': 0,\n",
    "                        'grid_import': 0,\n",
    "                        'grid_export':max(0,pv - min(pv,load) - p_charge)\n",
    "                       }            \n",
    "    elif action ==1:    \n",
    "        control_dict = {'pv_consummed': min(pv,load),\n",
    "                        'battery_charge': 0,\n",
    "                        'battery_discharge': p_discharge,\n",
    "                        'grid_import': max(0,load - min(pv,load) - p_discharge),\n",
    "                        'grid_export':0\n",
    "                       }\n",
    "    elif action ==2:\n",
    "        control_dict = {'pv_consummed': min(pv,load),\n",
    "                        'battery_charge': 0,\n",
    "                        'battery_discharge': 0,\n",
    "                        'grid_import': abs(net_load),\n",
    "                        'grid_export':0\n",
    "                       }\n",
    "    elif action == 3:\n",
    "        control_dict = {'pv_consummed': min(pv,load),\n",
    "                        'battery_charge': 0,\n",
    "                        'battery_discharge': 0,\n",
    "                        'grid_import': 0,\n",
    "                        'grid_export':abs(net_load)\n",
    "                       }\n",
    "    \n",
    "    return control_dict"
   ]
  },
  {
   "cell_type": "markdown",
   "metadata": {},
   "source": [
    "## **8. Initializing the Q table:**"
   ]
  },
  {
   "cell_type": "code",
   "execution_count": 12,
   "metadata": {},
   "outputs": [],
   "source": [
    "def init_qtable(mg0, nb_action, net_load_params):\n",
    "\n",
    "    state = []\n",
    "    Q = {}\n",
    "    \n",
    "    # fill in here the range you need to add for the first param of the state\n",
    "    # last 1 in the range is the discretize interval\n",
    "    for i in range(???, ???, 1): \n",
    "        \n",
    "        # fill in here the range you need to add for the second param of the state\n",
    "        # last 0.1 in the range is the discretize interval\n",
    "        for j in np.arange(???, ???, 0.1):\n",
    "            \n",
    "            j = round(j,1)\n",
    "            state.append((i,j)) # then add all the states to the variable \"state\" as tuple (1st param, 2nd param)\n",
    "    \n",
    "    # now that we have all the possible states, let's create the Q table\n",
    "    for s in state:\n",
    "\n",
    "        Q[s] = {}  # for each state we store a dictionary (a row in Q-table)\n",
    "\n",
    "        for a in range(???):\n",
    "            # add initial value for Q table, for each s and a\n",
    "            ???\n",
    "\n",
    "    return Q"
   ]
  },
  {
   "cell_type": "markdown",
   "metadata": {},
   "source": [
    "**Policy** is the way we select the action, given the Q-values. \n",
    "\n",
    "In this tutorial we have selected the famous **epsilon greedy policy**.\n",
    "\n",
    "To explain what this is, given a state, we act greedily (choose the action with the highest Q-value) 1-epsilon times while we randomly select an action epsilon of the time where the epsilon is a positive decreasing value less than 1. If interested, please take a look into the helper_functions.py where we have defined the policy.\n",
    "\n",
    "Since we act randomly epsilon times, our agent gets the chance to explore the environment. Since we decrease the epsilon with time, the agent takes less and less random actions and always tries to act greedily.\n",
    "\n",
    "Selecting epsilon is an important task and this is normally called the *Explore-Exploit dilemma.*"
   ]
  },
  {
   "cell_type": "markdown",
   "metadata": {},
   "source": [
    "## **9. Q learning:**"
   ]
  },
  {
   "cell_type": "markdown",
   "metadata": {},
   "source": [
    "To recap, here is the Q-learning algo (from Sutton and Barto's book)\n",
    "\n",
    "![Data Heatmap](QlearningAlgo.png)\n",
    "\n",
    "\n",
    "Now let's implement it for our application,"
   ]
  },
  {
   "cell_type": "code",
   "execution_count": null,
   "metadata": {},
   "outputs": [],
   "source": [
    "def training_Q_Learning(mg, horizon, net_load_params, nb_episode = 100):\n",
    "    \n",
    "    nb_action = 4\n",
    "    Q = ???  # initialise Q-table\n",
    "    nb_state = len(Q)\n",
    "    alpha = 0.1\n",
    "    epsilon = 0.99\n",
    "    gamma = 0.99\n",
    "    \n",
    "    record_cost = []\n",
    "    t0 = time.time()\n",
    "    t = t0\n",
    "    print_training = \"Training Progressing\"\n",
    "    print_welcome(0)\n",
    "    for e in range(nb_episode+1):\n",
    "\n",
    "        # to print\n",
    "        value_print=\"\\r\"+ print_training +\"Episode \" + str(e) +\"/\" + str(nb_episode) \n",
    "        sys.stdout.write(value_print)\n",
    "        sys.stdout.flush()\n",
    "        \n",
    "        # learning start\n",
    "        episode_cost = 0\n",
    "        mg.reset() # reset the environment\n",
    "        \n",
    "        net_load = ??? # mg.load and mg.pv can be used to get load and pv at a given time\n",
    "        soc = ??? # mg.battery.soc to get the charge of the battery\n",
    "        s = (???, ???)\n",
    "        \n",
    "        for i in range (horizon):\n",
    "            \n",
    "            a = ??? # action with max value for the given state (refer helper_function.py for a hint)\n",
    "            a, is_random = ???  # action after epsilon greedy policy (refer helper_function.py for a hint)\n",
    "            action = actions_agent(mg,a)  # returns control_dict for the action\n",
    "            \n",
    "            status = mg.run(action) # apply the action in the environment\n",
    "            r = ??? # mg.get_cost() can be used to get the cost at a given time\n",
    "            episode_cost += mg.get_cost()\n",
    "            net_load = ???\n",
    "            soc = ???\n",
    "            s_ = (???, ???)\n",
    "            \n",
    "            Q[s][a] = ???\n",
    "            \n",
    "            s = ???\n",
    "       \n",
    "        epsilon = update_epsilon(epsilon)  # decrease epsilon\n",
    "        \n",
    "    return Q"
   ]
  },
  {
   "cell_type": "code",
   "execution_count": 14,
   "metadata": {},
   "outputs": [],
   "source": [
    "def testing_Q_Learning(mg, Q,horizon):\n",
    "    \n",
    "    mg.reset(testing=True)\n",
    "    net_load = ???\n",
    "    soc = ???\n",
    "    s = (???, ???)\n",
    "    a = ???\n",
    "    total_cost = 0\n",
    "    print_welcome(1)\n",
    "    for i in range (horizon):\n",
    "\n",
    "        action_name = change_name_action(a)\n",
    "        action = actions_agent(mg, a)\n",
    "        status = mg.run(action)\n",
    "        cost = ???\n",
    "        total_cost += cost\n",
    "        print(i,\"-\",(???,???),action_name, round(total_cost,1), \"€\")  # add two variable of the state here\n",
    "        net_load = ???\n",
    "        soc = ???\n",
    "        s_ = (???, ???)\n",
    "        a_ = ???\n",
    "\n",
    "        s, a = s_, a_"
   ]
  },
  {
   "cell_type": "code",
   "execution_count": 15,
   "metadata": {},
   "outputs": [],
   "source": [
    "mg0.train_test_split(train_size=0.8)"
   ]
  },
  {
   "cell_type": "code",
   "execution_count": 2,
   "metadata": {},
   "outputs": [],
   "source": [
    "Q1 = training_Q_Learning(mg0,48,net_load_params,nb_episode=100)"
   ]
  },
  {
   "cell_type": "code",
   "execution_count": 3,
   "metadata": {},
   "outputs": [],
   "source": [
    "testing_Q_Learning(mg0,Q1, 48)"
   ]
  },
  {
   "cell_type": "markdown",
   "metadata": {},
   "source": [
    "## **10. Deep Q-learning:**"
   ]
  },
  {
   "cell_type": "markdown",
   "metadata": {},
   "source": [
    "So, how to use Neural networks to achieve a better result of the above Q-learning?"
   ]
  },
  {
   "cell_type": "markdown",
   "metadata": {},
   "source": [
    "![Data Heatmap](deepQ.png)\n",
    "\n",
    "<p style=\"text-align: center; font-weight:bold;\">Figure 4: A basic Deep Q-Learning Architecture</p>\n"
   ]
  },
  {
   "cell_type": "markdown",
   "metadata": {},
   "source": [
    "In here we input the state variables and try to predict the Q values for each state. Since this is a supervised task, what can we use as the target since we do not know the Q-values.\n",
    "\n",
    "So in here, the trick is create a copy of the network and keep one as a target and train the other. To converge the Q values faster, we only update the learnt parameters to the target network only in every **K**th iteration\n",
    "\n",
    "![Data Heatmap](deepQtrain.png)\n",
    "\n",
    "<p style=\"text-align: center; font-weight:bold;\">Figure 5: Training process of the Deep Q-Learning Architecture</p>\n"
   ]
  },
  {
   "cell_type": "markdown",
   "metadata": {},
   "source": [
    "There are some libraries that have already implemented such networks. One good example if you are using Keras is [The Keras-RL Library](https://github.com/keras-rl/keras-rl). Here we are only supposed to input our deep network with our open-gym like environment.\n",
    "\n",
    "Due to the time constraints, we do not wish to explain this in detail.\n",
    "\n",
    "Please refer to this [example](https://github.com/keras-rl/keras-rl/blob/master/examples/dqn_cartpole.py) if you are interested. \n",
    "\n",
    "[This](https://github.com/p-christ/Deep-Reinforcement-Learning-Algorithms-with-PyTorch) might be a good starting point if you are using Pytorch for model implementation.\n",
    "\n",
    "If you are using such an external library, please make sure to use the exact dependency (example same TF and Keras version) for convenience."
   ]
  },
  {
   "cell_type": "markdown",
   "metadata": {},
   "source": [
    "In conclusion, It is important to note that Deep Q is really important when the action space is also continuous."
   ]
  },
  {
   "cell_type": "markdown",
   "metadata": {},
   "source": [
    "## **References:**\n",
    "\n",
    "- A. T. D. Perera, R. A. Attalage and K. K. C. K. Perera “An optimal design of a grid connected hybrid electrical energy system using evolutionary computation” IEEE-ICIIS 2013\n",
    "\n",
    "- G Henri,T Levent, A Halev, R Alami and P Cordier “pymgrid: An Open-Source Python Microgrid Simulator for Applied Artificial Intelligence Research” https://arxiv.org/abs/2011.08004\n",
    "\n",
    "- Richard S. Sutton and Andrew G. Barto “Reinforcement Learning: An Introduction” 2nd Edition The MIT Press, 2017\n"
   ]
  }
 ],
 "metadata": {
  "kernelspec": {
   "display_name": "Python 3 (ipykernel)",
   "language": "python",
   "name": "python3"
  },
  "language_info": {
   "codemirror_mode": {
    "name": "ipython",
    "version": 3
   },
   "file_extension": ".py",
   "mimetype": "text/x-python",
   "name": "python",
   "nbconvert_exporter": "python",
   "pygments_lexer": "ipython3",
   "version": "3.12.4"
  }
 },
 "nbformat": 4,
 "nbformat_minor": 4
}
